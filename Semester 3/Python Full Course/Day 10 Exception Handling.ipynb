{
 "cells": [
  {
   "cell_type": "markdown",
   "id": "d472b582-bd13-4119-b7f0-d23e852f31fb",
   "metadata": {},
   "source": [
    "# Error Handling"
   ]
  },
  {
   "cell_type": "code",
   "execution_count": 12,
   "id": "b33dd1ab-4dcd-4cfd-bbd8-347fc9b075b9",
   "metadata": {},
   "outputs": [
    {
     "name": "stdout",
     "output_type": "stream",
     "text": [
      "ami tomay onek valobashi\n",
      "file closed\n"
     ]
    }
   ],
   "source": [
    "file = None\n",
    "try:\n",
    "    file = open('data/text.txt')\n",
    "    content = file.read()\n",
    "except Exception as e:\n",
    "    print(e)\n",
    "else:\n",
    "    print(content)\n",
    "finally:\n",
    "    if file:\n",
    "        file.close()\n",
    "        print('file closed')"
   ]
  },
  {
   "cell_type": "code",
   "execution_count": 13,
   "id": "551f7c92-e28c-45f0-abdd-84c6d0ad320b",
   "metadata": {},
   "outputs": [
    {
     "name": "stdout",
     "output_type": "stream",
     "text": [
      "[Errno 2] No such file or directory: 'data/new.txt'\n"
     ]
    }
   ],
   "source": [
    "file = None\n",
    "try:\n",
    "    file = open('data/new.txt', 'r')\n",
    "    content = file.read()\n",
    "except Exception as e:\n",
    "    print(e)\n",
    "else:\n",
    "    print(content)\n",
    "finally:\n",
    "    if file:\n",
    "        file.close()\n",
    "        print('file closed')"
   ]
  },
  {
   "cell_type": "markdown",
   "id": "c6439d80-a744-468c-a72d-bb0968319d52",
   "metadata": {},
   "source": [
    "# Custom Exceptions"
   ]
  },
  {
   "cell_type": "code",
   "execution_count": 19,
   "id": "96a7afbb-9f25-40e0-b6a8-6aca1f17dbc3",
   "metadata": {},
   "outputs": [
    {
     "name": "stdin",
     "output_type": "stream",
     "text": [
      "Enter a number to get the square root:  90\n"
     ]
    },
    {
     "name": "stdout",
     "output_type": "stream",
     "text": [
      "9.486832980505138\n"
     ]
    }
   ],
   "source": [
    "class NegativeNumberError(Exception):\n",
    "    pass\n",
    "\n",
    "def get_sqrt(x):\n",
    "    if x < 0:\n",
    "        raise NegativeNumberError(\"Number is negative!\")\n",
    "    return x ** 0.5\n",
    "\n",
    "num = int(input('Enter a number to get the square root: '))\n",
    "try:\n",
    "    result = get_sqrt(num)\n",
    "except NegativeNumberError as e:\n",
    "    print(f'Error: {e}')\n",
    "else:\n",
    "    print(result)"
   ]
  }
 ],
 "metadata": {
  "kernelspec": {
   "display_name": "Python 3 (ipykernel)",
   "language": "python",
   "name": "python3"
  },
  "language_info": {
   "codemirror_mode": {
    "name": "ipython",
    "version": 3
   },
   "file_extension": ".py",
   "mimetype": "text/x-python",
   "name": "python",
   "nbconvert_exporter": "python",
   "pygments_lexer": "ipython3",
   "version": "3.12.3"
  }
 },
 "nbformat": 4,
 "nbformat_minor": 5
}
