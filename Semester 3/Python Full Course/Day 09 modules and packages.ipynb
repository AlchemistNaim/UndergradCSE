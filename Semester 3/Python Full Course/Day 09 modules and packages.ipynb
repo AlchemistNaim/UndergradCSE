{
 "cells": [
  {
   "cell_type": "markdown",
   "id": "c4f9072e-dec8-45fe-851a-a2ca87accd51",
   "metadata": {},
   "source": [
    "# Importing Modules: `import` and `from`"
   ]
  },
  {
   "cell_type": "code",
   "execution_count": 4,
   "id": "539ce574-e497-4b6e-ba4e-b2a0740855b2",
   "metadata": {},
   "outputs": [
    {
     "data": {
      "text/plain": [
       "2.0"
      ]
     },
     "execution_count": 4,
     "metadata": {},
     "output_type": "execute_result"
    }
   ],
   "source": [
    "import math\n",
    "math.sqrt(4)"
   ]
  },
  {
   "cell_type": "code",
   "execution_count": 3,
   "id": "57582872-d28b-492b-a5b5-b46bea23d8c3",
   "metadata": {},
   "outputs": [
    {
     "data": {
      "text/plain": [
       "2.0"
      ]
     },
     "execution_count": 3,
     "metadata": {},
     "output_type": "execute_result"
    }
   ],
   "source": [
    "from math import sqrt\n",
    "sqrt(4)"
   ]
  },
  {
   "cell_type": "markdown",
   "id": "8f1154a1-59f6-4aa7-b1a7-65c768fd7eed",
   "metadata": {},
   "source": [
    "# Creating and Using Packages"
   ]
  },
  {
   "cell_type": "markdown",
   "id": "7b051bc8-f052-45db-b6d0-09cac2d4244f",
   "metadata": {},
   "source": [
    "### Directory Structure:\n",
    "\n",
    "    my_package/\n",
    "    \n",
    "        __init__.py\n",
    "        \n",
    "        module1.py\n",
    "        \n",
    "        module2.py"
   ]
  },
  {
   "cell_type": "markdown",
   "id": "414c7a3d-40ae-4bfe-93e5-ee4b90cc1619",
   "metadata": {},
   "source": [
    "1. __init__.py has been remained empty\n",
    "2. module1.py with one function `greet(name)`\n",
    "3. module2.py with one function `add(a, b)`"
   ]
  },
  {
   "cell_type": "code",
   "execution_count": 6,
   "id": "81b2cc6f-7b23-4ec1-9156-07bd6d33c084",
   "metadata": {},
   "outputs": [
    {
     "data": {
      "text/plain": [
       "('Hello, Naim', 7)"
      ]
     },
     "execution_count": 6,
     "metadata": {},
     "output_type": "execute_result"
    }
   ],
   "source": [
    "import packages.module1 as m1\n",
    "from packages.module2 import add\n",
    "\n",
    "m1.greet('Naim'), add(3, 4)"
   ]
  },
  {
   "cell_type": "markdown",
   "id": "4e324bda-5bf0-4550-9ebc-db1ef938b275",
   "metadata": {},
   "source": [
    "# Understanding `__name == \"__main__\"`"
   ]
  },
  {
   "cell_type": "code",
   "execution_count": 8,
   "id": "4bfbf1a6-767d-4c0f-8dcd-e47e5485e0c5",
   "metadata": {},
   "outputs": [
    {
     "name": "stdout",
     "output_type": "stream",
     "text": [
      "This is the main function\n"
     ]
    }
   ],
   "source": [
    "def main():\n",
    "    print('This is the main function')\n",
    "\n",
    "if __name__ == \"__main__\":\n",
    "    main()"
   ]
  },
  {
   "cell_type": "markdown",
   "id": "799f2da6-8837-4765-95ad-1750a1b5c473",
   "metadata": {},
   "source": [
    "#### If this python code is imported as a module then the main() will not automatically be executed"
   ]
  }
 ],
 "metadata": {
  "kernelspec": {
   "display_name": "Python 3 (ipykernel)",
   "language": "python",
   "name": "python3"
  },
  "language_info": {
   "codemirror_mode": {
    "name": "ipython",
    "version": 3
   },
   "file_extension": ".py",
   "mimetype": "text/x-python",
   "name": "python",
   "nbconvert_exporter": "python",
   "pygments_lexer": "ipython3",
   "version": "3.12.3"
  }
 },
 "nbformat": 4,
 "nbformat_minor": 5
}
