{
 "cells": [
  {
   "cell_type": "code",
   "execution_count": 6,
   "id": "cf338b42-309e-458c-b2d6-36015af32a67",
   "metadata": {},
   "outputs": [
    {
     "name": "stdout",
     "output_type": "stream",
     "text": [
      "\n",
      "    1. Add\n",
      "    2. Subtract\n",
      "    3. Multiply\n",
      "    4. Divide\n",
      "    5. Exit\n",
      "\n"
     ]
    },
    {
     "name": "stdin",
     "output_type": "stream",
     "text": [
      "Enter choice:  2\n",
      "Enter a:  4\n",
      "Enter b:  2\n"
     ]
    },
    {
     "name": "stdout",
     "output_type": "stream",
     "text": [
      "4 - 2 = 2\n"
     ]
    },
    {
     "name": "stdin",
     "output_type": "stream",
     "text": [
      "Enter choice:  4\n",
      "Enter a:  3\n",
      "Enter b:  2\n"
     ]
    },
    {
     "name": "stdout",
     "output_type": "stream",
     "text": [
      "3 / 2 = 1.5\n"
     ]
    },
    {
     "name": "stdin",
     "output_type": "stream",
     "text": [
      "Enter choice:  4\n",
      "Enter a:  3\n",
      "Enter b:  11\n"
     ]
    },
    {
     "name": "stdout",
     "output_type": "stream",
     "text": [
      "3 / 11 = 0.2727272727272727\n"
     ]
    },
    {
     "name": "stdin",
     "output_type": "stream",
     "text": [
      "Enter choice:  5\n"
     ]
    },
    {
     "name": "stdout",
     "output_type": "stream",
     "text": [
      "Exiting...\n"
     ]
    }
   ],
   "source": [
    "def operate(x, y, func):\n",
    "    return func(x, y)\n",
    "\n",
    "add = lambda a, b: a+b\n",
    "subtract =  lambda a, b: a-b\n",
    "multiply = lambda a, b: a*b\n",
    "divide = lambda a, b: a/b\n",
    "\n",
    "print(\"\"\"\n",
    "    1. Add\n",
    "    2. Subtract\n",
    "    3. Multiply\n",
    "    4. Divide\n",
    "    5. Exit\n",
    "\"\"\")\n",
    "\n",
    "while True:\n",
    "    choice = int(input('Enter choice: '))\n",
    "    if choice == 1:\n",
    "        a = int(input('Enter a: '))\n",
    "        b = int(input('Enter b: '))\n",
    "        print(f'{a} + {b} = {operate(a, b, add)}')\n",
    "    elif choice == 2:\n",
    "        a = int(input('Enter a: '))\n",
    "        b = int(input('Enter b: '))\n",
    "        print(f'{a} - {b} = {operate(a, b, subtract)}')\n",
    "    elif choice == 3:\n",
    "        a = int(input('Enter a: '))\n",
    "        b = int(input('Enter b: '))\n",
    "        print(f'{a} * {b} = {operate(a, b, multiply)}')\n",
    "    elif choice == 4:\n",
    "        a = int(input('Enter a: '))\n",
    "        b = int(input('Enter b: '))\n",
    "        print(f'{a} / {b} = {operate(a, b, divide)}')\n",
    "    elif choice == 5:\n",
    "        print('Exiting...')\n",
    "        break\n",
    "    else:\n",
    "        print('Invalid choice!')    "
   ]
  }
 ],
 "metadata": {
  "kernelspec": {
   "display_name": "Python 3 (ipykernel)",
   "language": "python",
   "name": "python3"
  },
  "language_info": {
   "codemirror_mode": {
    "name": "ipython",
    "version": 3
   },
   "file_extension": ".py",
   "mimetype": "text/x-python",
   "name": "python",
   "nbconvert_exporter": "python",
   "pygments_lexer": "ipython3",
   "version": "3.12.3"
  }
 },
 "nbformat": 4,
 "nbformat_minor": 5
}
