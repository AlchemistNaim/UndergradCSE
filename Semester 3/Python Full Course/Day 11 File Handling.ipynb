{
 "cells": [
  {
   "cell_type": "code",
   "execution_count": 2,
   "id": "19e3da7a-cbe7-4cdc-bb30-496f3961efbc",
   "metadata": {},
   "outputs": [],
   "source": [
    "with open('data/new.txt', 'w') as file:\n",
    "    file.write('Hello World!')\n",
    "    file.write('I am a new line!')\n",
    "    file.write('I am also a new one!')"
   ]
  },
  {
   "cell_type": "code",
   "execution_count": 9,
   "id": "9d047928-e0db-410f-a013-cd1d60ec371d",
   "metadata": {},
   "outputs": [
    {
     "data": {
      "text/plain": [
       "(['Hello World!I am a new line!I am also a new one!'], [])"
      ]
     },
     "execution_count": 9,
     "metadata": {},
     "output_type": "execute_result"
    }
   ],
   "source": [
    "content1 = []\n",
    "with open('data/new.txt', 'r') as file:\n",
    "    for line in file:\n",
    "        content1.append(line)\n",
    "    content2 = file.readlines()\n",
    "content1, content2"
   ]
  }
 ],
 "metadata": {
  "kernelspec": {
   "display_name": "Python 3 (ipykernel)",
   "language": "python",
   "name": "python3"
  },
  "language_info": {
   "codemirror_mode": {
    "name": "ipython",
    "version": 3
   },
   "file_extension": ".py",
   "mimetype": "text/x-python",
   "name": "python",
   "nbconvert_exporter": "python",
   "pygments_lexer": "ipython3",
   "version": "3.12.3"
  }
 },
 "nbformat": 4,
 "nbformat_minor": 5
}
